{
  "nbformat": 4,
  "nbformat_minor": 0,
  "metadata": {
    "colab": {
      "provenance": []
    },
    "kernelspec": {
      "name": "python3",
      "display_name": "Python 3"
    },
    "language_info": {
      "name": "python"
    }
  },
  "cells": [
    {
      "cell_type": "markdown",
      "source": [
        "# **1. Import Library**"
      ],
      "metadata": {
        "id": "fKADPWcFKlj3"
      }
    },
    {
      "cell_type": "markdown",
      "source": [
        "Pada tahap ini, Anda perlu mengimpor beberapa pustaka (library) Python yang dibutuhkan untuk analisis data dan pembangunan model machine learning."
      ],
      "metadata": {
        "id": "LgA3ERnVn84N"
      }
    },
    {
      "cell_type": "code",
      "source": [
        "import pandas as pd\n",
        "import numpy as np\n",
        "import matplotlib.pyplot as plt\n",
        "import seaborn as sns\n",
        "from sklearn.model_selection import train_test_split\n",
        "from sklearn.model_selection import GridSearchCV, RandomizedSearchCV\n",
        "from sklearn.pipeline import Pipeline\n",
        "from sklearn.tree import DecisionTreeClassifier\n",
        "from sklearn.svm import SVC\n",
        "from sklearn.ensemble import RandomForestClassifier\n",
        "from sklearn.metrics import accuracy_score, classification_report, confusion_matrix"
      ],
      "metadata": {
        "id": "BlmvjLY9M4Yj"
      },
      "execution_count": 17,
      "outputs": []
    },
    {
      "cell_type": "markdown",
      "source": [
        "# **2. Memuat Dataset dari Hasil Clustering**"
      ],
      "metadata": {
        "id": "f3YIEnAFKrKL"
      }
    },
    {
      "cell_type": "markdown",
      "source": [
        "Memuat dataset hasil clustering dari file CSV ke dalam variabel DataFrame."
      ],
      "metadata": {
        "id": "Ey3ItwTen_7E"
      }
    },
    {
      "cell_type": "code",
      "source": [
        "from google.colab import drive\n",
        "\n",
        "drive.mount('/content/drive')\n",
        "file_path = '/content/drive/MyDrive/Submission Dicoding/hasil_clustering_frauds_detection.csv'\n",
        "df = pd.read_csv(file_path)"
      ],
      "metadata": {
        "id": "GHCGNTyrM5fS",
        "colab": {
          "base_uri": "https://localhost:8080/"
        },
        "outputId": "0caf194f-e9d7-4ab1-8c32-0f992972674a"
      },
      "execution_count": 13,
      "outputs": [
        {
          "output_type": "stream",
          "name": "stdout",
          "text": [
            "Drive already mounted at /content/drive; to attempt to forcibly remount, call drive.mount(\"/content/drive\", force_remount=True).\n"
          ]
        }
      ]
    },
    {
      "cell_type": "code",
      "source": [
        "df.head()"
      ],
      "metadata": {
        "colab": {
          "base_uri": "https://localhost:8080/",
          "height": 226
        },
        "id": "nNrEY5KT5W4n",
        "outputId": "d59bc272-084d-4f24-c5e1-1f286f42e6c7"
      },
      "execution_count": 14,
      "outputs": [
        {
          "output_type": "execute_result",
          "data": {
            "text/plain": [
              "   cat__TransactionType_Credit  cat__TransactionType_Debit  cat__Channel_ATM  \\\n",
              "0                    -0.543467                    0.543467          1.425787   \n",
              "1                    -0.543467                    0.543467          1.425787   \n",
              "2                    -0.543467                    0.543467         -0.701367   \n",
              "3                    -0.543467                    0.543467         -0.701367   \n",
              "4                     1.840038                   -1.840038         -0.701367   \n",
              "\n",
              "   cat__Channel_Branch  cat__Channel_Online  cat__CustomerOccupation_Engineer  \\\n",
              "0            -0.730676            -0.689492                         -0.576869   \n",
              "1            -0.730676            -0.689492                         -0.576869   \n",
              "2            -0.730676             1.450342                         -0.576869   \n",
              "3            -0.730676             1.450342                         -0.576869   \n",
              "4            -0.730676             1.450342                         -0.576869   \n",
              "\n",
              "   cat__CustomerOccupation_Retired  cat__CustomerOccupation_Student  \\\n",
              "0                        -0.559537                        -0.593558   \n",
              "1                        -0.559537                        -0.593558   \n",
              "2                        -0.559537                         1.684755   \n",
              "3                        -0.559537                         1.684755   \n",
              "4                        -0.559537                         1.684755   \n",
              "\n",
              "   remainder__TransactionAmount  remainder__CustomerAge  \\\n",
              "0                     -1.112175                1.424991   \n",
              "1                      0.558073                1.312326   \n",
              "2                     -0.594705               -1.447980   \n",
              "3                     -0.326238               -1.053651   \n",
              "4                     -1.115127               -1.053651   \n",
              "\n",
              "   remainder__TransactionDuration  remainder__LoginAttempts  \\\n",
              "0                       -0.550392                 -0.207599   \n",
              "1                        0.306226                 -0.207599   \n",
              "2                       -0.907317                 -0.207599   \n",
              "3                       -1.349903                 -0.207599   \n",
              "4                        1.120013                 -0.207599   \n",
              "\n",
              "   remainder__AccountBalance  Cluster_DBSCAN Cluster_Description  \n",
              "0                  -0.007141              -1    Fraud (Outliers)  \n",
              "1                   2.209057              -1    Fraud (Outliers)  \n",
              "2                  -1.029765              -1    Fraud (Outliers)  \n",
              "3                   0.878869              -1    Fraud (Outliers)  \n",
              "4                   0.586767              -1    Fraud (Outliers)  "
            ],
            "text/html": [
              "\n",
              "  <div id=\"df-995d1663-ddb5-4a20-8847-e6b72423a838\" class=\"colab-df-container\">\n",
              "    <div>\n",
              "<style scoped>\n",
              "    .dataframe tbody tr th:only-of-type {\n",
              "        vertical-align: middle;\n",
              "    }\n",
              "\n",
              "    .dataframe tbody tr th {\n",
              "        vertical-align: top;\n",
              "    }\n",
              "\n",
              "    .dataframe thead th {\n",
              "        text-align: right;\n",
              "    }\n",
              "</style>\n",
              "<table border=\"1\" class=\"dataframe\">\n",
              "  <thead>\n",
              "    <tr style=\"text-align: right;\">\n",
              "      <th></th>\n",
              "      <th>cat__TransactionType_Credit</th>\n",
              "      <th>cat__TransactionType_Debit</th>\n",
              "      <th>cat__Channel_ATM</th>\n",
              "      <th>cat__Channel_Branch</th>\n",
              "      <th>cat__Channel_Online</th>\n",
              "      <th>cat__CustomerOccupation_Engineer</th>\n",
              "      <th>cat__CustomerOccupation_Retired</th>\n",
              "      <th>cat__CustomerOccupation_Student</th>\n",
              "      <th>remainder__TransactionAmount</th>\n",
              "      <th>remainder__CustomerAge</th>\n",
              "      <th>remainder__TransactionDuration</th>\n",
              "      <th>remainder__LoginAttempts</th>\n",
              "      <th>remainder__AccountBalance</th>\n",
              "      <th>Cluster_DBSCAN</th>\n",
              "      <th>Cluster_Description</th>\n",
              "    </tr>\n",
              "  </thead>\n",
              "  <tbody>\n",
              "    <tr>\n",
              "      <th>0</th>\n",
              "      <td>-0.543467</td>\n",
              "      <td>0.543467</td>\n",
              "      <td>1.425787</td>\n",
              "      <td>-0.730676</td>\n",
              "      <td>-0.689492</td>\n",
              "      <td>-0.576869</td>\n",
              "      <td>-0.559537</td>\n",
              "      <td>-0.593558</td>\n",
              "      <td>-1.112175</td>\n",
              "      <td>1.424991</td>\n",
              "      <td>-0.550392</td>\n",
              "      <td>-0.207599</td>\n",
              "      <td>-0.007141</td>\n",
              "      <td>-1</td>\n",
              "      <td>Fraud (Outliers)</td>\n",
              "    </tr>\n",
              "    <tr>\n",
              "      <th>1</th>\n",
              "      <td>-0.543467</td>\n",
              "      <td>0.543467</td>\n",
              "      <td>1.425787</td>\n",
              "      <td>-0.730676</td>\n",
              "      <td>-0.689492</td>\n",
              "      <td>-0.576869</td>\n",
              "      <td>-0.559537</td>\n",
              "      <td>-0.593558</td>\n",
              "      <td>0.558073</td>\n",
              "      <td>1.312326</td>\n",
              "      <td>0.306226</td>\n",
              "      <td>-0.207599</td>\n",
              "      <td>2.209057</td>\n",
              "      <td>-1</td>\n",
              "      <td>Fraud (Outliers)</td>\n",
              "    </tr>\n",
              "    <tr>\n",
              "      <th>2</th>\n",
              "      <td>-0.543467</td>\n",
              "      <td>0.543467</td>\n",
              "      <td>-0.701367</td>\n",
              "      <td>-0.730676</td>\n",
              "      <td>1.450342</td>\n",
              "      <td>-0.576869</td>\n",
              "      <td>-0.559537</td>\n",
              "      <td>1.684755</td>\n",
              "      <td>-0.594705</td>\n",
              "      <td>-1.447980</td>\n",
              "      <td>-0.907317</td>\n",
              "      <td>-0.207599</td>\n",
              "      <td>-1.029765</td>\n",
              "      <td>-1</td>\n",
              "      <td>Fraud (Outliers)</td>\n",
              "    </tr>\n",
              "    <tr>\n",
              "      <th>3</th>\n",
              "      <td>-0.543467</td>\n",
              "      <td>0.543467</td>\n",
              "      <td>-0.701367</td>\n",
              "      <td>-0.730676</td>\n",
              "      <td>1.450342</td>\n",
              "      <td>-0.576869</td>\n",
              "      <td>-0.559537</td>\n",
              "      <td>1.684755</td>\n",
              "      <td>-0.326238</td>\n",
              "      <td>-1.053651</td>\n",
              "      <td>-1.349903</td>\n",
              "      <td>-0.207599</td>\n",
              "      <td>0.878869</td>\n",
              "      <td>-1</td>\n",
              "      <td>Fraud (Outliers)</td>\n",
              "    </tr>\n",
              "    <tr>\n",
              "      <th>4</th>\n",
              "      <td>1.840038</td>\n",
              "      <td>-1.840038</td>\n",
              "      <td>-0.701367</td>\n",
              "      <td>-0.730676</td>\n",
              "      <td>1.450342</td>\n",
              "      <td>-0.576869</td>\n",
              "      <td>-0.559537</td>\n",
              "      <td>1.684755</td>\n",
              "      <td>-1.115127</td>\n",
              "      <td>-1.053651</td>\n",
              "      <td>1.120013</td>\n",
              "      <td>-0.207599</td>\n",
              "      <td>0.586767</td>\n",
              "      <td>-1</td>\n",
              "      <td>Fraud (Outliers)</td>\n",
              "    </tr>\n",
              "  </tbody>\n",
              "</table>\n",
              "</div>\n",
              "    <div class=\"colab-df-buttons\">\n",
              "\n",
              "  <div class=\"colab-df-container\">\n",
              "    <button class=\"colab-df-convert\" onclick=\"convertToInteractive('df-995d1663-ddb5-4a20-8847-e6b72423a838')\"\n",
              "            title=\"Convert this dataframe to an interactive table.\"\n",
              "            style=\"display:none;\">\n",
              "\n",
              "  <svg xmlns=\"http://www.w3.org/2000/svg\" height=\"24px\" viewBox=\"0 -960 960 960\">\n",
              "    <path d=\"M120-120v-720h720v720H120Zm60-500h600v-160H180v160Zm220 220h160v-160H400v160Zm0 220h160v-160H400v160ZM180-400h160v-160H180v160Zm440 0h160v-160H620v160ZM180-180h160v-160H180v160Zm440 0h160v-160H620v160Z\"/>\n",
              "  </svg>\n",
              "    </button>\n",
              "\n",
              "  <style>\n",
              "    .colab-df-container {\n",
              "      display:flex;\n",
              "      gap: 12px;\n",
              "    }\n",
              "\n",
              "    .colab-df-convert {\n",
              "      background-color: #E8F0FE;\n",
              "      border: none;\n",
              "      border-radius: 50%;\n",
              "      cursor: pointer;\n",
              "      display: none;\n",
              "      fill: #1967D2;\n",
              "      height: 32px;\n",
              "      padding: 0 0 0 0;\n",
              "      width: 32px;\n",
              "    }\n",
              "\n",
              "    .colab-df-convert:hover {\n",
              "      background-color: #E2EBFA;\n",
              "      box-shadow: 0px 1px 2px rgba(60, 64, 67, 0.3), 0px 1px 3px 1px rgba(60, 64, 67, 0.15);\n",
              "      fill: #174EA6;\n",
              "    }\n",
              "\n",
              "    .colab-df-buttons div {\n",
              "      margin-bottom: 4px;\n",
              "    }\n",
              "\n",
              "    [theme=dark] .colab-df-convert {\n",
              "      background-color: #3B4455;\n",
              "      fill: #D2E3FC;\n",
              "    }\n",
              "\n",
              "    [theme=dark] .colab-df-convert:hover {\n",
              "      background-color: #434B5C;\n",
              "      box-shadow: 0px 1px 3px 1px rgba(0, 0, 0, 0.15);\n",
              "      filter: drop-shadow(0px 1px 2px rgba(0, 0, 0, 0.3));\n",
              "      fill: #FFFFFF;\n",
              "    }\n",
              "  </style>\n",
              "\n",
              "    <script>\n",
              "      const buttonEl =\n",
              "        document.querySelector('#df-995d1663-ddb5-4a20-8847-e6b72423a838 button.colab-df-convert');\n",
              "      buttonEl.style.display =\n",
              "        google.colab.kernel.accessAllowed ? 'block' : 'none';\n",
              "\n",
              "      async function convertToInteractive(key) {\n",
              "        const element = document.querySelector('#df-995d1663-ddb5-4a20-8847-e6b72423a838');\n",
              "        const dataTable =\n",
              "          await google.colab.kernel.invokeFunction('convertToInteractive',\n",
              "                                                    [key], {});\n",
              "        if (!dataTable) return;\n",
              "\n",
              "        const docLinkHtml = 'Like what you see? Visit the ' +\n",
              "          '<a target=\"_blank\" href=https://colab.research.google.com/notebooks/data_table.ipynb>data table notebook</a>'\n",
              "          + ' to learn more about interactive tables.';\n",
              "        element.innerHTML = '';\n",
              "        dataTable['output_type'] = 'display_data';\n",
              "        await google.colab.output.renderOutput(dataTable, element);\n",
              "        const docLink = document.createElement('div');\n",
              "        docLink.innerHTML = docLinkHtml;\n",
              "        element.appendChild(docLink);\n",
              "      }\n",
              "    </script>\n",
              "  </div>\n",
              "\n",
              "\n",
              "<div id=\"df-96be02e3-d93e-4a5c-a19c-cd752e44aaa0\">\n",
              "  <button class=\"colab-df-quickchart\" onclick=\"quickchart('df-96be02e3-d93e-4a5c-a19c-cd752e44aaa0')\"\n",
              "            title=\"Suggest charts\"\n",
              "            style=\"display:none;\">\n",
              "\n",
              "<svg xmlns=\"http://www.w3.org/2000/svg\" height=\"24px\"viewBox=\"0 0 24 24\"\n",
              "     width=\"24px\">\n",
              "    <g>\n",
              "        <path d=\"M19 3H5c-1.1 0-2 .9-2 2v14c0 1.1.9 2 2 2h14c1.1 0 2-.9 2-2V5c0-1.1-.9-2-2-2zM9 17H7v-7h2v7zm4 0h-2V7h2v10zm4 0h-2v-4h2v4z\"/>\n",
              "    </g>\n",
              "</svg>\n",
              "  </button>\n",
              "\n",
              "<style>\n",
              "  .colab-df-quickchart {\n",
              "      --bg-color: #E8F0FE;\n",
              "      --fill-color: #1967D2;\n",
              "      --hover-bg-color: #E2EBFA;\n",
              "      --hover-fill-color: #174EA6;\n",
              "      --disabled-fill-color: #AAA;\n",
              "      --disabled-bg-color: #DDD;\n",
              "  }\n",
              "\n",
              "  [theme=dark] .colab-df-quickchart {\n",
              "      --bg-color: #3B4455;\n",
              "      --fill-color: #D2E3FC;\n",
              "      --hover-bg-color: #434B5C;\n",
              "      --hover-fill-color: #FFFFFF;\n",
              "      --disabled-bg-color: #3B4455;\n",
              "      --disabled-fill-color: #666;\n",
              "  }\n",
              "\n",
              "  .colab-df-quickchart {\n",
              "    background-color: var(--bg-color);\n",
              "    border: none;\n",
              "    border-radius: 50%;\n",
              "    cursor: pointer;\n",
              "    display: none;\n",
              "    fill: var(--fill-color);\n",
              "    height: 32px;\n",
              "    padding: 0;\n",
              "    width: 32px;\n",
              "  }\n",
              "\n",
              "  .colab-df-quickchart:hover {\n",
              "    background-color: var(--hover-bg-color);\n",
              "    box-shadow: 0 1px 2px rgba(60, 64, 67, 0.3), 0 1px 3px 1px rgba(60, 64, 67, 0.15);\n",
              "    fill: var(--button-hover-fill-color);\n",
              "  }\n",
              "\n",
              "  .colab-df-quickchart-complete:disabled,\n",
              "  .colab-df-quickchart-complete:disabled:hover {\n",
              "    background-color: var(--disabled-bg-color);\n",
              "    fill: var(--disabled-fill-color);\n",
              "    box-shadow: none;\n",
              "  }\n",
              "\n",
              "  .colab-df-spinner {\n",
              "    border: 2px solid var(--fill-color);\n",
              "    border-color: transparent;\n",
              "    border-bottom-color: var(--fill-color);\n",
              "    animation:\n",
              "      spin 1s steps(1) infinite;\n",
              "  }\n",
              "\n",
              "  @keyframes spin {\n",
              "    0% {\n",
              "      border-color: transparent;\n",
              "      border-bottom-color: var(--fill-color);\n",
              "      border-left-color: var(--fill-color);\n",
              "    }\n",
              "    20% {\n",
              "      border-color: transparent;\n",
              "      border-left-color: var(--fill-color);\n",
              "      border-top-color: var(--fill-color);\n",
              "    }\n",
              "    30% {\n",
              "      border-color: transparent;\n",
              "      border-left-color: var(--fill-color);\n",
              "      border-top-color: var(--fill-color);\n",
              "      border-right-color: var(--fill-color);\n",
              "    }\n",
              "    40% {\n",
              "      border-color: transparent;\n",
              "      border-right-color: var(--fill-color);\n",
              "      border-top-color: var(--fill-color);\n",
              "    }\n",
              "    60% {\n",
              "      border-color: transparent;\n",
              "      border-right-color: var(--fill-color);\n",
              "    }\n",
              "    80% {\n",
              "      border-color: transparent;\n",
              "      border-right-color: var(--fill-color);\n",
              "      border-bottom-color: var(--fill-color);\n",
              "    }\n",
              "    90% {\n",
              "      border-color: transparent;\n",
              "      border-bottom-color: var(--fill-color);\n",
              "    }\n",
              "  }\n",
              "</style>\n",
              "\n",
              "  <script>\n",
              "    async function quickchart(key) {\n",
              "      const quickchartButtonEl =\n",
              "        document.querySelector('#' + key + ' button');\n",
              "      quickchartButtonEl.disabled = true;  // To prevent multiple clicks.\n",
              "      quickchartButtonEl.classList.add('colab-df-spinner');\n",
              "      try {\n",
              "        const charts = await google.colab.kernel.invokeFunction(\n",
              "            'suggestCharts', [key], {});\n",
              "      } catch (error) {\n",
              "        console.error('Error during call to suggestCharts:', error);\n",
              "      }\n",
              "      quickchartButtonEl.classList.remove('colab-df-spinner');\n",
              "      quickchartButtonEl.classList.add('colab-df-quickchart-complete');\n",
              "    }\n",
              "    (() => {\n",
              "      let quickchartButtonEl =\n",
              "        document.querySelector('#df-96be02e3-d93e-4a5c-a19c-cd752e44aaa0 button');\n",
              "      quickchartButtonEl.style.display =\n",
              "        google.colab.kernel.accessAllowed ? 'block' : 'none';\n",
              "    })();\n",
              "  </script>\n",
              "</div>\n",
              "\n",
              "    </div>\n",
              "  </div>\n"
            ],
            "application/vnd.google.colaboratory.intrinsic+json": {
              "type": "dataframe",
              "variable_name": "df",
              "summary": "{\n  \"name\": \"df\",\n  \"rows\": 2399,\n  \"fields\": [\n    {\n      \"column\": \"cat__TransactionType_Credit\",\n      \"properties\": {\n        \"dtype\": \"number\",\n        \"std\": 1.0002084853561666,\n        \"min\": -0.5434669920890144,\n        \"max\": 1.8400381523745055,\n        \"num_unique_values\": 2,\n        \"samples\": [\n          1.8400381523745055,\n          -0.5434669920890144\n        ],\n        \"semantic_type\": \"\",\n        \"description\": \"\"\n      }\n    },\n    {\n      \"column\": \"cat__TransactionType_Debit\",\n      \"properties\": {\n        \"dtype\": \"number\",\n        \"std\": 1.0002084853561666,\n        \"min\": -1.8400381523745055,\n        \"max\": 0.5434669920890143,\n        \"num_unique_values\": 2,\n        \"samples\": [\n          -1.8400381523745055,\n          0.5434669920890143\n        ],\n        \"semantic_type\": \"\",\n        \"description\": \"\"\n      }\n    },\n    {\n      \"column\": \"cat__Channel_ATM\",\n      \"properties\": {\n        \"dtype\": \"number\",\n        \"std\": 1.00020848535616,\n        \"min\": -0.7013668247683034,\n        \"max\": 1.4257874263305084,\n        \"num_unique_values\": 2,\n        \"samples\": [\n          -0.7013668247683034,\n          1.4257874263305084\n        ],\n        \"semantic_type\": \"\",\n        \"description\": \"\"\n      }\n    },\n    {\n      \"column\": \"cat__Channel_Branch\",\n      \"properties\": {\n        \"dtype\": \"number\",\n        \"std\": 1.0002084853561686,\n        \"min\": -0.730676034936613,\n        \"max\": 1.368595591186662,\n        \"num_unique_values\": 2,\n        \"samples\": [\n          1.368595591186662,\n          -0.730676034936613\n        ],\n        \"semantic_type\": \"\",\n        \"description\": \"\"\n      }\n    },\n    {\n      \"column\": \"cat__Channel_Online\",\n      \"properties\": {\n        \"dtype\": \"number\",\n        \"std\": 1.0002084853561712,\n        \"min\": -0.6894923886436601,\n        \"max\": 1.4503423336799368,\n        \"num_unique_values\": 2,\n        \"samples\": [\n          1.4503423336799368,\n          -0.6894923886436601\n        ],\n        \"semantic_type\": \"\",\n        \"description\": \"\"\n      }\n    },\n    {\n      \"column\": \"cat__CustomerOccupation_Engineer\",\n      \"properties\": {\n        \"dtype\": \"number\",\n        \"std\": 1.0002084853561464,\n        \"min\": -0.576868943329226,\n        \"max\": 1.7334959899709628,\n        \"num_unique_values\": 2,\n        \"samples\": [\n          1.7334959899709628,\n          -0.576868943329226\n        ],\n        \"semantic_type\": \"\",\n        \"description\": \"\"\n      }\n    },\n    {\n      \"column\": \"cat__CustomerOccupation_Retired\",\n      \"properties\": {\n        \"dtype\": \"number\",\n        \"std\": 1.0002084853561803,\n        \"min\": -0.5595369107224875,\n        \"max\": 1.787192195611861,\n        \"num_unique_values\": 2,\n        \"samples\": [\n          1.787192195611861,\n          -0.5595369107224875\n        ],\n        \"semantic_type\": \"\",\n        \"description\": \"\"\n      }\n    },\n    {\n      \"column\": \"cat__CustomerOccupation_Student\",\n      \"properties\": {\n        \"dtype\": \"number\",\n        \"std\": 1.0002084853561748,\n        \"min\": -0.5935580521040781,\n        \"max\": 1.684755175092215,\n        \"num_unique_values\": 2,\n        \"samples\": [\n          1.684755175092215,\n          -0.5935580521040781\n        ],\n        \"semantic_type\": \"\",\n        \"description\": \"\"\n      }\n    },\n    {\n      \"column\": \"remainder__TransactionAmount\",\n      \"properties\": {\n        \"dtype\": \"number\",\n        \"std\": 1.0002084853561684,\n        \"min\": -1.1759592622142243,\n        \"max\": 2.988384940131116,\n        \"num_unique_values\": 2342,\n        \"samples\": [\n          -0.4136360996150626,\n          2.2234790382793945\n        ],\n        \"semantic_type\": \"\",\n        \"description\": \"\"\n      }\n    },\n    {\n      \"column\": \"remainder__CustomerAge\",\n      \"properties\": {\n        \"dtype\": \"number\",\n        \"std\": 1.0002084853561715,\n        \"min\": -1.504312905706782,\n        \"max\": 1.98831923716844,\n        \"num_unique_values\": 63,\n        \"samples\": [\n          1.8193209076744776,\n          0.9179964837066784\n        ],\n        \"semantic_type\": \"\",\n        \"description\": \"\"\n      }\n    },\n    {\n      \"column\": \"remainder__TransactionDuration\",\n      \"properties\": {\n        \"dtype\": \"number\",\n        \"std\": 1.0002084853561681,\n        \"min\": -1.564057393399548,\n        \"max\": 2.57626431504714,\n        \"num_unique_values\": 287,\n        \"samples\": [\n          0.0064094615285062,\n          2.176509115610908\n        ],\n        \"semantic_type\": \"\",\n        \"description\": \"\"\n      }\n    },\n    {\n      \"column\": \"remainder__LoginAttempts\",\n      \"properties\": {\n        \"dtype\": \"number\",\n        \"std\": 1.0002084853561493,\n        \"min\": -0.2075991841069155,\n        \"max\": 6.432806718192954,\n        \"num_unique_values\": 5,\n        \"samples\": [\n          3.1126037670430198,\n          4.772705242617986\n        ],\n        \"semantic_type\": \"\",\n        \"description\": \"\"\n      }\n    },\n    {\n      \"column\": \"remainder__AccountBalance\",\n      \"properties\": {\n        \"dtype\": \"number\",\n        \"std\": 1.0002084853561697,\n        \"min\": -1.291478890161898,\n        \"max\": 2.521513805571762,\n        \"num_unique_values\": 2397,\n        \"samples\": [\n          -0.3238327456594713,\n          0.315624250737986\n        ],\n        \"semantic_type\": \"\",\n        \"description\": \"\"\n      }\n    },\n    {\n      \"column\": \"Cluster_DBSCAN\",\n      \"properties\": {\n        \"dtype\": \"number\",\n        \"std\": 0,\n        \"min\": -1,\n        \"max\": 2,\n        \"num_unique_values\": 4,\n        \"samples\": [\n          1,\n          0\n        ],\n        \"semantic_type\": \"\",\n        \"description\": \"\"\n      }\n    },\n    {\n      \"column\": \"Cluster_Description\",\n      \"properties\": {\n        \"dtype\": \"category\",\n        \"num_unique_values\": 2,\n        \"samples\": [\n          \"Normal\",\n          \"Fraud (Outliers)\"\n        ],\n        \"semantic_type\": \"\",\n        \"description\": \"\"\n      }\n    }\n  ]\n}"
            }
          },
          "metadata": {},
          "execution_count": 14
        }
      ]
    },
    {
      "cell_type": "markdown",
      "source": [
        "# **3. Data Splitting**"
      ],
      "metadata": {
        "id": "KkPem5eWL2UP"
      }
    },
    {
      "cell_type": "markdown",
      "source": [
        "Tahap Data Splitting bertujuan untuk memisahkan dataset menjadi dua bagian: data latih (training set) dan data uji (test set)."
      ],
      "metadata": {
        "id": "YYj1rl_JNI9Y"
      }
    },
    {
      "cell_type": "code",
      "source": [
        "df['Label_Fraud'] = df['Cluster_Description'].map({'Fraud(Outliers)': 1, 'Normal': 0})\n",
        "X = df.drop(columns=['Cluster_DBSCAN', 'Cluster_Description'])\n",
        "y = df['Cluster_Description']\n",
        "X_train, X_test, y_train, y_test = train_test_split(X, y, test_size= 0.2, random_state = 42, stratify = y)"
      ],
      "metadata": {
        "id": "OubAW-7ONKVj"
      },
      "execution_count": 15,
      "outputs": []
    },
    {
      "cell_type": "markdown",
      "source": [
        "# **4. Membangun Model Klasifikasi**\n"
      ],
      "metadata": {
        "id": "IVPbB03CMhTT"
      }
    },
    {
      "cell_type": "markdown",
      "source": [
        "## **a. Membangun Model Klasifikasi**"
      ],
      "metadata": {
        "id": "Ned1pL9zMmBK"
      }
    },
    {
      "cell_type": "markdown",
      "source": [
        "Setelah memilih algoritma klasifikasi yang sesuai, langkah selanjutnya adalah melatih model menggunakan data latih.\n",
        "\n",
        "Berikut adalah rekomendasi tahapannya.\n",
        "1. Pilih algoritma klasifikasi yang sesuai, seperti Logistic Regression, Decision Tree, Random Forest, atau K-Nearest Neighbors (KNN).\n",
        "2. Latih model menggunakan data latih."
      ],
      "metadata": {
        "id": "WAWzPOE4Nkti"
      }
    },
    {
      "cell_type": "code",
      "source": [
        "# Model Random Forest\n",
        "model = RandomForestClassifier(\n",
        "    n_estimators=100,       #jumlah pohon yang diuji coba dengan subsample ada 100\n",
        "    max_depth=10,           #jumlah kedalaman tiap pohon ada 10, ini hyperparameter yang umum agar tidak overfit\n",
        "    min_samples_split=2,    #ukuran split tiap node dalam pohon sebanyak 2 kali\n",
        "    min_samples_leaf=1,     #ukuran minimum leaf node\n",
        "    random_state=42,        #langkah umum untuk memastikan hasil konsisten\n",
        "    max_features = 'sqrt',  #fitur yang digunakan dalam node-node tiap pohon dibatasi sebanyak 'sqrt' dari total fitur\n",
        "    bootstrap =True         #memastikan tiap pohon mendapat subsample yang berbeda\n",
        ")\n",
        "\n",
        "model.fit(X_train, y_train)  #melatih data fitur x (independent variabel) dan y (dependent variabel)\n",
        "y_pred = model.predict(X_test)  #prediksi data fitur x"
      ],
      "metadata": {
        "id": "4JYxBe87NLDk"
      },
      "execution_count": 5,
      "outputs": []
    },
    {
      "cell_type": "markdown",
      "source": [
        "Membuat model klasifikasi data transaksi fraud atau tidak fraud (normal) dengan Random Forest. model Random Forest dibuat langsung dengan beberapa hyperparameter."
      ],
      "metadata": {
        "id": "seYoHNY3XU1y"
      }
    },
    {
      "cell_type": "code",
      "source": [
        "# Model Support Vector Machine\n",
        "from sklearn.impute import SimpleImputer\n",
        "from sklearn.preprocessing import StandardScaler\n",
        "\n",
        "pipeline = Pipeline([\n",
        "    ('imputer', SimpleImputer(strategy='mean')),\n",
        "    ('scaler', StandardScaler()),\n",
        "    ('svm', SVC())\n",
        "])\n",
        "\n",
        "param_grid = {\n",
        "    'svm__C': [0.1, 1, 10, 100],\n",
        "    'svm__gamma': ['scale', 'auto', 0.01, 0.1, 1, 10],\n",
        "    'svm__kernel': ['linear', 'rbf', 'poly'],\n",
        "    'svm__degree': [2, 3, 4]\n",
        "}\n",
        "\n",
        "grid_search = GridSearchCV(\n",
        "    pipeline,\n",
        "    param_grid,\n",
        "    cv=5,\n",
        "    scoring='accuracy',\n",
        "    n_jobs=-1\n",
        ")\n",
        "\n",
        "grid_search.fit(X_train, y_train)\n",
        "best_params = grid_search.best_params_\n",
        "print(f'Model terbaik: {best_params}')"
      ],
      "metadata": {
        "colab": {
          "base_uri": "https://localhost:8080/"
        },
        "id": "naqqV1kIsrSC",
        "outputId": "569d24c5-8ad2-4b02-fd18-27f24fc74fe5"
      },
      "execution_count": 20,
      "outputs": [
        {
          "output_type": "stream",
          "name": "stdout",
          "text": [
            "Model terbaik: {'svm__C': 100, 'svm__degree': 2, 'svm__gamma': 'auto', 'svm__kernel': 'rbf'}\n"
          ]
        }
      ]
    },
    {
      "cell_type": "markdown",
      "source": [
        "Membuat model klasifikasi data transaksi fraud atau tidak fraud (normal) dengan Support Vector Machine (SVM). Tidak seperti model Random Forest yang langsung membuat dugaan hyperparameter awal, model SVM terlebih dahulu langsung di tuning untuk mendapat hyperparameter terbaik."
      ],
      "metadata": {
        "id": "nPhM39ZwNfI2"
      }
    },
    {
      "cell_type": "markdown",
      "source": [
        "## **b. Evaluasi Model Klasifikasi**"
      ],
      "metadata": {
        "id": "ergzChZFEL-O"
      }
    },
    {
      "cell_type": "markdown",
      "source": [
        "Berikut adalah **rekomendasi** tahapannya.\n",
        "1. Lakukan prediksi menggunakan data uji.\n",
        "2. Hitung metrik evaluasi seperti Accuracy dan F1-Score (Opsional: Precision dan Recall).\n",
        "3. Buat confusion matrix untuk melihat detail prediksi benar dan salah."
      ],
      "metadata": {
        "id": "zOm68u-7NpLT"
      }
    },
    {
      "cell_type": "code",
      "source": [
        "evaluasi = classification_report(y_test, y_pred)\n",
        "print(evaluasi)"
      ],
      "metadata": {
        "id": "tMq4QAssNLip",
        "colab": {
          "base_uri": "https://localhost:8080/"
        },
        "outputId": "d27a6d51-7d52-43e3-ddab-dd347cd31ce9"
      },
      "execution_count": 6,
      "outputs": [
        {
          "output_type": "stream",
          "name": "stdout",
          "text": [
            "                  precision    recall  f1-score   support\n",
            "\n",
            "Fraud (Outliers)       0.98      1.00      0.99       444\n",
            "          Normal       1.00      0.81      0.89        36\n",
            "\n",
            "        accuracy                           0.99       480\n",
            "       macro avg       0.99      0.90      0.94       480\n",
            "    weighted avg       0.99      0.99      0.98       480\n",
            "\n"
          ]
        }
      ]
    },
    {
      "cell_type": "markdown",
      "source": [
        "Hasil evaluasi:\n",
        "*   Presisi: Untuk fraud, model secara keseluruhan memprediksi bahwa 98% data transaksi adalah fraud, sementara untuk yang normal, model secara keseluruhan tepat dalam memprediksi 100% data tersebut adalah normal.\n",
        "*   Recall: Pada fraud, model 100% dapat mengenali fraud (false negative nya 0), sementara pada normal, model hanya dapat mengenali 81% secara keseluruahan, sisanya mungkin dianggap fraud.\n",
        "\n",
        "*   F1-score: Pada fraud mendapat hasil sangat baik yaitu 99% sedangkan normal mendapat hasil 89%\n",
        "*   Support: Jumlah data test set pada fraud sebanyak 444 dan normal sebanyak 36 data.\n",
        "\n",
        "Secara keseluruhan hasil evaluasi cukup baik, namun untuk recall masih dalam kategori \"kurang\" ditambah minimum f1-score yang harus diperoleh yaitu 91%.\n",
        "\n",
        "\n",
        "\n"
      ],
      "metadata": {
        "id": "H4_9OwrsXZlz"
      }
    },
    {
      "cell_type": "code",
      "source": [
        "y_pred = grid_search.predict(X_test)\n",
        "print(classification_report(y_test, y_pred))"
      ],
      "metadata": {
        "colab": {
          "base_uri": "https://localhost:8080/"
        },
        "id": "CB2yDt-hKPHW",
        "outputId": "3aa0e1ee-c066-4a64-c2be-67720415d0a8"
      },
      "execution_count": 23,
      "outputs": [
        {
          "output_type": "stream",
          "name": "stdout",
          "text": [
            "                  precision    recall  f1-score   support\n",
            "\n",
            "Fraud (Outliers)       1.00      1.00      1.00       444\n",
            "          Normal       0.94      0.94      0.94        36\n",
            "\n",
            "        accuracy                           0.99       480\n",
            "       macro avg       0.97      0.97      0.97       480\n",
            "    weighted avg       0.99      0.99      0.99       480\n",
            "\n"
          ]
        }
      ]
    },
    {
      "cell_type": "markdown",
      "source": [
        "Hasil evaluasi:\n",
        "\n",
        "*   Presisi: Untuk fraud, model secara keseluruhan dengan tepat memprediksi data fraud 100%, sementara data normal dapat diprediksi model dengan presisi 94%\n",
        "\n",
        "*   Recall: Pada fraud, model 100% dapat mengenali fraud (false negative nya 0), sementara pada normal, model dapat mengenali 94% secara keseluruahan, sisanya mungkin dianggap fraud.\n",
        "\n",
        "*   F1-score: Pada fraud mendapat hasil sempurna yaitu 100%, sedangkan normal mendapat hasil 94%\n",
        "\n",
        "*   Support: Jumlah data test set pada fraud sebanyak 444 dan normal sebanyak 36 data.\n",
        "\n",
        "Secara keseluruhan Model SVM yang telah dioptimasi dengan GridSearchCV\n",
        "mampu memisahkan outlier dari data normal dengan akurasi tinggi dan presisi tinggi. Sangat cocok untuk digunakan dalam skenario deteksi fraud, terutama ketika penting untuk tidak salah mendeteksi data fraud maupun normal."
      ],
      "metadata": {
        "id": "pyRBMZwJOsYk"
      }
    },
    {
      "cell_type": "markdown",
      "source": [
        "## **c. Tuning Model Klasifikasi (Random Forest)**"
      ],
      "metadata": {
        "id": "ph9yIYDXEPuB"
      }
    },
    {
      "cell_type": "markdown",
      "source": [
        "Gunakan GridSearchCV, RandomizedSearchCV, atau metode lainnya untuk mencari kombinasi hyperparameter terbaik"
      ],
      "metadata": {
        "id": "-Bikx3LINv5e"
      }
    },
    {
      "cell_type": "code",
      "source": [
        "param_grid = {\n",
        "    'n_estimators': [50, 100, 200],\n",
        "    'max_depth': [None, 10, 20, 30],\n",
        "    'min_samples_split': [2, 5, 10],\n",
        "    'min_samples_leaf': [1, 2, 4],\n",
        "    'max_features': ['sqrt', 'log2'],\n",
        "    'bootstrap': [True, False]\n",
        "}\n",
        "\n",
        "grid_search = GridSearchCV(estimator=model, param_grid=param_grid, cv=5, scoring='accuracy', n_jobs=-1)\n",
        "grid_search.fit(X_train, y_train)\n",
        "best_params = grid_search.best_params_\n",
        "print(f'Best Parameters: {best_params}')"
      ],
      "metadata": {
        "id": "winbFzb8NL95",
        "colab": {
          "base_uri": "https://localhost:8080/"
        },
        "outputId": "4d0ac4a7-c64f-466b-917a-b95d2a8e17ab"
      },
      "execution_count": 7,
      "outputs": [
        {
          "output_type": "stream",
          "name": "stdout",
          "text": [
            "Best Parameters: {'bootstrap': False, 'max_depth': None, 'max_features': 'sqrt', 'min_samples_leaf': 4, 'min_samples_split': 10, 'n_estimators': 50}\n"
          ]
        }
      ]
    },
    {
      "cell_type": "markdown",
      "source": [
        "Membuat hyperparameter tuning untuk meningkatkan performa model terkhususnya pada bagian recall."
      ],
      "metadata": {
        "id": "7Xz6f3cjsNFr"
      }
    },
    {
      "cell_type": "code",
      "source": [
        "model = RandomForestClassifier(\n",
        "    n_estimators=50,\n",
        "    max_depth=None,\n",
        "    min_samples_split=10,\n",
        "    min_samples_leaf=4,\n",
        "    random_state=42,\n",
        "    max_features = 'sqrt',\n",
        "    bootstrap =False\n",
        ")\n",
        "\n",
        "model.fit(X_train, y_train)\n",
        "y_pred = model.predict(X_test)"
      ],
      "metadata": {
        "id": "1gilvixmEiZ3"
      },
      "execution_count": 8,
      "outputs": []
    },
    {
      "cell_type": "markdown",
      "source": [
        "## **d. Evaluasi Model Klasifikasi setelah Tuning (Random Forest)**"
      ],
      "metadata": {
        "id": "hE7pqlEPEYzI"
      }
    },
    {
      "cell_type": "markdown",
      "source": [
        "Berikut adalah rekomendasi tahapannya.\n",
        "1. Gunakan model dengan hyperparameter terbaik.\n",
        "2. Hitung ulang metrik evaluasi untuk melihat apakah ada peningkatan performa."
      ],
      "metadata": {
        "id": "feaPESoeN0zz"
      }
    },
    {
      "cell_type": "code",
      "source": [
        "evaluasi = classification_report(y_test, y_pred)\n",
        "print(evaluasi)"
      ],
      "metadata": {
        "id": "HTXZRvEeNMb1",
        "colab": {
          "base_uri": "https://localhost:8080/"
        },
        "outputId": "0ef1d93b-5f51-49b7-9a97-6cf840aac437"
      },
      "execution_count": 9,
      "outputs": [
        {
          "output_type": "stream",
          "name": "stdout",
          "text": [
            "                  precision    recall  f1-score   support\n",
            "\n",
            "Fraud (Outliers)       0.99      1.00      0.99       444\n",
            "          Normal       1.00      0.83      0.91        36\n",
            "\n",
            "        accuracy                           0.99       480\n",
            "       macro avg       0.99      0.92      0.95       480\n",
            "    weighted avg       0.99      0.99      0.99       480\n",
            "\n"
          ]
        }
      ]
    },
    {
      "cell_type": "markdown",
      "source": [
        "Hasil evaluasi setelah melakukan tuning hyperparameter dengan GridSearchCV menjadi lebih baik, dengan meningkatnya performa presisi fraud, recall pada data normal, dan juga f1-score pada data normal"
      ],
      "metadata": {
        "id": "ynPteHa0SMen"
      }
    }
  ]
}